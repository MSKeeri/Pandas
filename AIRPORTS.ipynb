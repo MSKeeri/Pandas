{
 "cells": [
  {
   "cell_type": "code",
   "execution_count": 1,
   "id": "6e9f9735",
   "metadata": {},
   "outputs": [],
   "source": [
    "import pandas as pd"
   ]
  },
  {
   "cell_type": "code",
   "execution_count": 2,
   "id": "12fefd40",
   "metadata": {},
   "outputs": [],
   "source": [
    "airports=pd.read_csv('airports.csv')"
   ]
  },
  {
   "cell_type": "code",
   "execution_count": 3,
   "id": "cded4753",
   "metadata": {},
   "outputs": [
    {
     "data": {
      "text/html": [
       "<div>\n",
       "<style scoped>\n",
       "    .dataframe tbody tr th:only-of-type {\n",
       "        vertical-align: middle;\n",
       "    }\n",
       "\n",
       "    .dataframe tbody tr th {\n",
       "        vertical-align: top;\n",
       "    }\n",
       "\n",
       "    .dataframe thead th {\n",
       "        text-align: right;\n",
       "    }\n",
       "</style>\n",
       "<table border=\"1\" class=\"dataframe\">\n",
       "  <thead>\n",
       "    <tr style=\"text-align: right;\">\n",
       "      <th></th>\n",
       "      <th>id</th>\n",
       "      <th>ident</th>\n",
       "      <th>type</th>\n",
       "      <th>name</th>\n",
       "      <th>latitude_deg</th>\n",
       "      <th>longitude_deg</th>\n",
       "      <th>elevation_ft</th>\n",
       "      <th>continent</th>\n",
       "      <th>iso_country</th>\n",
       "      <th>iso_region</th>\n",
       "      <th>municipality</th>\n",
       "      <th>scheduled_service</th>\n",
       "      <th>gps_code</th>\n",
       "      <th>iata_code</th>\n",
       "      <th>local_code</th>\n",
       "      <th>Unnamed: 15</th>\n",
       "      <th>Unnamed: 16</th>\n",
       "      <th>Unnamed: 17</th>\n",
       "    </tr>\n",
       "  </thead>\n",
       "  <tbody>\n",
       "    <tr>\n",
       "      <th>0</th>\n",
       "      <td>6523</td>\n",
       "      <td>00A</td>\n",
       "      <td>heliport</td>\n",
       "      <td>Total RF Heliport</td>\n",
       "      <td>40.070985</td>\n",
       "      <td>-74.933689</td>\n",
       "      <td>11.0</td>\n",
       "      <td>NaN</td>\n",
       "      <td>US</td>\n",
       "      <td>US-PA</td>\n",
       "      <td>Bensalem</td>\n",
       "      <td>no</td>\n",
       "      <td>K00A</td>\n",
       "      <td>NaN</td>\n",
       "      <td>00A</td>\n",
       "      <td>NaN</td>\n",
       "      <td>NaN</td>\n",
       "      <td>NaN</td>\n",
       "    </tr>\n",
       "    <tr>\n",
       "      <th>1</th>\n",
       "      <td>323361</td>\n",
       "      <td>00AA</td>\n",
       "      <td>small_airport</td>\n",
       "      <td>Aero B Ranch Airport</td>\n",
       "      <td>38.704022</td>\n",
       "      <td>-101.473911</td>\n",
       "      <td>3435.0</td>\n",
       "      <td>NaN</td>\n",
       "      <td>US</td>\n",
       "      <td>US-KS</td>\n",
       "      <td>Leoti</td>\n",
       "      <td>no</td>\n",
       "      <td>00AA</td>\n",
       "      <td>NaN</td>\n",
       "      <td>00AA</td>\n",
       "      <td>NaN</td>\n",
       "      <td>NaN</td>\n",
       "      <td>NaN</td>\n",
       "    </tr>\n",
       "    <tr>\n",
       "      <th>2</th>\n",
       "      <td>6524</td>\n",
       "      <td>00AK</td>\n",
       "      <td>small_airport</td>\n",
       "      <td>Lowell Field</td>\n",
       "      <td>59.947733</td>\n",
       "      <td>-151.692524</td>\n",
       "      <td>450.0</td>\n",
       "      <td>NaN</td>\n",
       "      <td>US</td>\n",
       "      <td>US-AK</td>\n",
       "      <td>Anchor Point</td>\n",
       "      <td>no</td>\n",
       "      <td>00AK</td>\n",
       "      <td>NaN</td>\n",
       "      <td>00AK</td>\n",
       "      <td>NaN</td>\n",
       "      <td>NaN</td>\n",
       "      <td>NaN</td>\n",
       "    </tr>\n",
       "    <tr>\n",
       "      <th>3</th>\n",
       "      <td>6525</td>\n",
       "      <td>00AL</td>\n",
       "      <td>small_airport</td>\n",
       "      <td>Epps Airpark</td>\n",
       "      <td>34.864799</td>\n",
       "      <td>-86.770302</td>\n",
       "      <td>820.0</td>\n",
       "      <td>NaN</td>\n",
       "      <td>US</td>\n",
       "      <td>US-AL</td>\n",
       "      <td>Harvest</td>\n",
       "      <td>no</td>\n",
       "      <td>00AL</td>\n",
       "      <td>NaN</td>\n",
       "      <td>00AL</td>\n",
       "      <td>NaN</td>\n",
       "      <td>NaN</td>\n",
       "      <td>NaN</td>\n",
       "    </tr>\n",
       "    <tr>\n",
       "      <th>4</th>\n",
       "      <td>506791</td>\n",
       "      <td>00AN</td>\n",
       "      <td>small_airport</td>\n",
       "      <td>Katmai Lodge Airport</td>\n",
       "      <td>59.093287</td>\n",
       "      <td>-156.456699</td>\n",
       "      <td>80.0</td>\n",
       "      <td>NaN</td>\n",
       "      <td>US</td>\n",
       "      <td>US-AK</td>\n",
       "      <td>King Salmon</td>\n",
       "      <td>no</td>\n",
       "      <td>00AN</td>\n",
       "      <td>NaN</td>\n",
       "      <td>00AN</td>\n",
       "      <td>NaN</td>\n",
       "      <td>NaN</td>\n",
       "      <td>NaN</td>\n",
       "    </tr>\n",
       "  </tbody>\n",
       "</table>\n",
       "</div>"
      ],
      "text/plain": [
       "       id ident           type                  name  latitude_deg  \\\n",
       "0    6523   00A       heliport     Total RF Heliport     40.070985   \n",
       "1  323361  00AA  small_airport  Aero B Ranch Airport     38.704022   \n",
       "2    6524  00AK  small_airport          Lowell Field     59.947733   \n",
       "3    6525  00AL  small_airport          Epps Airpark     34.864799   \n",
       "4  506791  00AN  small_airport  Katmai Lodge Airport     59.093287   \n",
       "\n",
       "   longitude_deg  elevation_ft continent iso_country iso_region  municipality  \\\n",
       "0     -74.933689          11.0       NaN          US      US-PA      Bensalem   \n",
       "1    -101.473911        3435.0       NaN          US      US-KS         Leoti   \n",
       "2    -151.692524         450.0       NaN          US      US-AK  Anchor Point   \n",
       "3     -86.770302         820.0       NaN          US      US-AL       Harvest   \n",
       "4    -156.456699          80.0       NaN          US      US-AK   King Salmon   \n",
       "\n",
       "  scheduled_service gps_code iata_code local_code  Unnamed: 15  Unnamed: 16  \\\n",
       "0                no     K00A       NaN        00A          NaN          NaN   \n",
       "1                no     00AA       NaN       00AA          NaN          NaN   \n",
       "2                no     00AK       NaN       00AK          NaN          NaN   \n",
       "3                no     00AL       NaN       00AL          NaN          NaN   \n",
       "4                no     00AN       NaN       00AN          NaN          NaN   \n",
       "\n",
       "   Unnamed: 17  \n",
       "0          NaN  \n",
       "1          NaN  \n",
       "2          NaN  \n",
       "3          NaN  \n",
       "4          NaN  "
      ]
     },
     "execution_count": 3,
     "metadata": {},
     "output_type": "execute_result"
    }
   ],
   "source": [
    "airports.head()"
   ]
  },
  {
   "cell_type": "markdown",
   "id": "186f8b86",
   "metadata": {},
   "source": [
    " How many rows and columns are there in the dataset?\n"
   ]
  },
  {
   "cell_type": "code",
   "execution_count": 11,
   "id": "30e0da2f",
   "metadata": {},
   "outputs": [
    {
     "name": "stdout",
     "output_type": "stream",
     "text": [
      "rows:  76364\n",
      "columns:  18\n"
     ]
    }
   ],
   "source": [
    "print('rows: ',airports.shape[0])\n",
    "print('columns: ',airports.shape[1])"
   ]
  },
  {
   "cell_type": "markdown",
   "id": "650aa511",
   "metadata": {},
   "source": [
    "What are the unique types of airports/heliports in the dataset?\n"
   ]
  },
  {
   "cell_type": "code",
   "execution_count": 12,
   "id": "735dc140",
   "metadata": {},
   "outputs": [
    {
     "data": {
      "text/plain": [
       "array(['heliport', 'small_airport', 'closed', 'seaplane_base',\n",
       "       'balloonport', 'medium_airport', 'large_airport'], dtype=object)"
      ]
     },
     "execution_count": 12,
     "metadata": {},
     "output_type": "execute_result"
    }
   ],
   "source": [
    "airports['type'].unique()"
   ]
  },
  {
   "cell_type": "markdown",
   "id": "f6d18e82",
   "metadata": {},
   "source": [
    "What is the highest elevation among all the airports/heliports in the dataset?\n"
   ]
  },
  {
   "cell_type": "code",
   "execution_count": 17,
   "id": "7d6319a5",
   "metadata": {},
   "outputs": [
    {
     "data": {
      "text/plain": [
       "17372.0"
      ]
     },
     "execution_count": 17,
     "metadata": {},
     "output_type": "execute_result"
    }
   ],
   "source": [
    "airports['elevation_ft'].max()"
   ]
  },
  {
   "cell_type": "markdown",
   "id": "b096d0af",
   "metadata": {},
   "source": [
    "How many airports/heliports are located in the US (ISO country code 'US')?\n"
   ]
  },
  {
   "cell_type": "code",
   "execution_count": 32,
   "id": "04c1c5d7",
   "metadata": {},
   "outputs": [
    {
     "data": {
      "text/plain": [
       "30581"
      ]
     },
     "execution_count": 32,
     "metadata": {},
     "output_type": "execute_result"
    }
   ],
   "source": [
    "airports[airports['iso_country']=='US']['type'].count()"
   ]
  },
  {
   "cell_type": "markdown",
   "id": "dfc1c8d8",
   "metadata": {},
   "source": [
    "Can you find the airport/heliport with the highest elevation in the US?\n"
   ]
  },
  {
   "cell_type": "code",
   "execution_count": 28,
   "id": "282fcf2d",
   "metadata": {},
   "outputs": [
    {
     "data": {
      "text/plain": [
       "12963.0"
      ]
     },
     "execution_count": 28,
     "metadata": {},
     "output_type": "execute_result"
    }
   ],
   "source": [
    "airports[airports['iso_country']=='US']['elevation_ft'].max()"
   ]
  },
  {
   "cell_type": "code",
   "execution_count": 27,
   "id": "c50c67fe",
   "metadata": {},
   "outputs": [
    {
     "data": {
      "text/html": [
       "<div>\n",
       "<style scoped>\n",
       "    .dataframe tbody tr th:only-of-type {\n",
       "        vertical-align: middle;\n",
       "    }\n",
       "\n",
       "    .dataframe tbody tr th {\n",
       "        vertical-align: top;\n",
       "    }\n",
       "\n",
       "    .dataframe thead th {\n",
       "        text-align: right;\n",
       "    }\n",
       "</style>\n",
       "<table border=\"1\" class=\"dataframe\">\n",
       "  <thead>\n",
       "    <tr style=\"text-align: right;\">\n",
       "      <th></th>\n",
       "      <th>id</th>\n",
       "      <th>ident</th>\n",
       "      <th>type</th>\n",
       "      <th>name</th>\n",
       "      <th>latitude_deg</th>\n",
       "      <th>longitude_deg</th>\n",
       "      <th>elevation_ft</th>\n",
       "      <th>continent</th>\n",
       "      <th>iso_country</th>\n",
       "      <th>iso_region</th>\n",
       "      <th>municipality</th>\n",
       "      <th>scheduled_service</th>\n",
       "      <th>gps_code</th>\n",
       "      <th>iata_code</th>\n",
       "      <th>local_code</th>\n",
       "      <th>Unnamed: 15</th>\n",
       "      <th>Unnamed: 16</th>\n",
       "      <th>Unnamed: 17</th>\n",
       "    </tr>\n",
       "  </thead>\n",
       "  <tbody>\n",
       "    <tr>\n",
       "      <th>66941</th>\n",
       "      <td>344779</td>\n",
       "      <td>US-4173</td>\n",
       "      <td>closed</td>\n",
       "      <td>Harquahala Ranches Airstrip</td>\n",
       "      <td>33.35663</td>\n",
       "      <td>-113.22205</td>\n",
       "      <td>12963.0</td>\n",
       "      <td>NaN</td>\n",
       "      <td>US</td>\n",
       "      <td>US-AZ</td>\n",
       "      <td>Tonopah</td>\n",
       "      <td>no</td>\n",
       "      <td>NaN</td>\n",
       "      <td>NaN</td>\n",
       "      <td>NaN</td>\n",
       "      <td>NaN</td>\n",
       "      <td>NaN</td>\n",
       "      <td>NaN</td>\n",
       "    </tr>\n",
       "  </tbody>\n",
       "</table>\n",
       "</div>"
      ],
      "text/plain": [
       "           id    ident    type                         name  latitude_deg  \\\n",
       "66941  344779  US-4173  closed  Harquahala Ranches Airstrip      33.35663   \n",
       "\n",
       "       longitude_deg  elevation_ft continent iso_country iso_region  \\\n",
       "66941     -113.22205       12963.0       NaN          US      US-AZ   \n",
       "\n",
       "      municipality scheduled_service gps_code iata_code local_code  \\\n",
       "66941      Tonopah                no      NaN       NaN        NaN   \n",
       "\n",
       "       Unnamed: 15  Unnamed: 16  Unnamed: 17  \n",
       "66941          NaN          NaN          NaN  "
      ]
     },
     "execution_count": 27,
     "metadata": {},
     "output_type": "execute_result"
    }
   ],
   "source": [
    "airports[(airports['iso_country']=='US')& (airports['elevation_ft']==12963.0)]"
   ]
  },
  {
   "cell_type": "markdown",
   "id": "984a9214",
   "metadata": {},
   "source": [
    "How many airports/heliports have scheduled airline service (scheduled_service = 'yes')?\n"
   ]
  },
  {
   "cell_type": "code",
   "execution_count": 50,
   "id": "4d4c7402",
   "metadata": {},
   "outputs": [
    {
     "data": {
      "text/plain": [
       "4263"
      ]
     },
     "execution_count": 50,
     "metadata": {},
     "output_type": "execute_result"
    }
   ],
   "source": [
    "airports[airports['scheduled_service']=='yes']['scheduled_service'].count()"
   ]
  },
  {
   "cell_type": "markdown",
   "id": "4faa3ea5",
   "metadata": {},
   "source": [
    "What is the average elevation of small airports in the dataset?\n"
   ]
  },
  {
   "cell_type": "code",
   "execution_count": 11,
   "id": "420be0df",
   "metadata": {},
   "outputs": [
    {
     "data": {
      "text/plain": [
       "1388.0892622735626"
      ]
     },
     "execution_count": 11,
     "metadata": {},
     "output_type": "execute_result"
    }
   ],
   "source": [
    "airports[airports['type']=='small_airport']['elevation_ft'].mean()"
   ]
  },
  {
   "cell_type": "markdown",
   "id": "c5bc33de",
   "metadata": {},
   "source": [
    "Which continent has the most airports/heliports in the dataset?\n"
   ]
  },
  {
   "cell_type": "code",
   "execution_count": 22,
   "id": "5c11f53a",
   "metadata": {},
   "outputs": [
    {
     "data": {
      "text/plain": [
       "AS    11059\n",
       "SA    10463\n",
       "EU     9922\n",
       "AF     3973\n",
       "OC     3908\n",
       "AN       44\n",
       "Name: continent, dtype: int64"
      ]
     },
     "execution_count": 22,
     "metadata": {},
     "output_type": "execute_result"
    }
   ],
   "source": [
    "airports['continent'].value_counts( )"
   ]
  },
  {
   "cell_type": "markdown",
   "id": "eccaefc1",
   "metadata": {},
   "source": [
    "How many airports/heliports are located in Alaska (ISO region code 'US-AK')?\n"
   ]
  },
  {
   "cell_type": "code",
   "execution_count": 35,
   "id": "745bd8b3",
   "metadata": {},
   "outputs": [
    {
     "data": {
      "text/plain": [
       "1047"
      ]
     },
     "execution_count": 35,
     "metadata": {},
     "output_type": "execute_result"
    }
   ],
   "source": [
    "airports[airports['iso_region']=='US-AK']['type'].count()"
   ]
  },
  {
   "cell_type": "markdown",
   "id": "81850945",
   "metadata": {},
   "source": [
    "What is the airport/heliport with the longest name in the dataset?\n"
   ]
  },
  {
   "cell_type": "code",
   "execution_count": 46,
   "id": "c11c1f9e",
   "metadata": {},
   "outputs": [
    {
     "name": "stdout",
     "output_type": "stream",
     "text": [
      "93\n"
     ]
    }
   ],
   "source": [
    "f=[]\n",
    "for i in airports['name'].unique():\n",
    "    f.append(len(i))\n",
    "    \n",
    "print(max(f))   "
   ]
  },
  {
   "cell_type": "code",
   "execution_count": 47,
   "id": "4aacb2e8",
   "metadata": {},
   "outputs": [
    {
     "name": "stdout",
     "output_type": "stream",
     "text": [
      "Helipuerto Nº1 del Comando de Operaciones de Defensa Interna de las Fuerzas de Tarea Conjunta\n",
      "Helipuerto Nº2 del Comando de Operaciones de Defensa Interna de las Fuerzas de Tarea Conjunta\n",
      "Helipuerto Nº3 del Comando de Operaciones de Defensa Interna de las Fuerzas de Tarea Conjunta\n"
     ]
    }
   ],
   "source": [
    "for i in airports['name'].unique():\n",
    "    if len(i)==93:\n",
    "        print(i)"
   ]
  },
  {
   "cell_type": "code",
   "execution_count": 44,
   "id": "76ddb0cb",
   "metadata": {},
   "outputs": [
    {
     "data": {
      "text/plain": [
       "array(['Total RF Heliport', 'Aero B Ranch Airport', 'Lowell Field', ...,\n",
       "       'Fainting Goat Airport', 'Scandium City Heliport',\n",
       "       'Satsuma Iōjima Airport'], dtype=object)"
      ]
     },
     "execution_count": 44,
     "metadata": {},
     "output_type": "execute_result"
    }
   ],
   "source": [
    "airports['name'].unique()"
   ]
  },
  {
   "cell_type": "markdown",
   "id": "dfce8a6a",
   "metadata": {},
   "source": [
    "How many airports/heliports have an IATA code?\n"
   ]
  },
  {
   "cell_type": "code",
   "execution_count": 48,
   "id": "c169111c",
   "metadata": {},
   "outputs": [
    {
     "data": {
      "text/html": [
       "<div>\n",
       "<style scoped>\n",
       "    .dataframe tbody tr th:only-of-type {\n",
       "        vertical-align: middle;\n",
       "    }\n",
       "\n",
       "    .dataframe tbody tr th {\n",
       "        vertical-align: top;\n",
       "    }\n",
       "\n",
       "    .dataframe thead th {\n",
       "        text-align: right;\n",
       "    }\n",
       "</style>\n",
       "<table border=\"1\" class=\"dataframe\">\n",
       "  <thead>\n",
       "    <tr style=\"text-align: right;\">\n",
       "      <th></th>\n",
       "      <th>id</th>\n",
       "      <th>ident</th>\n",
       "      <th>type</th>\n",
       "      <th>name</th>\n",
       "      <th>latitude_deg</th>\n",
       "      <th>longitude_deg</th>\n",
       "      <th>elevation_ft</th>\n",
       "      <th>continent</th>\n",
       "      <th>iso_country</th>\n",
       "      <th>iso_region</th>\n",
       "      <th>municipality</th>\n",
       "      <th>scheduled_service</th>\n",
       "      <th>gps_code</th>\n",
       "      <th>iata_code</th>\n",
       "      <th>local_code</th>\n",
       "      <th>Unnamed: 15</th>\n",
       "      <th>Unnamed: 16</th>\n",
       "      <th>Unnamed: 17</th>\n",
       "    </tr>\n",
       "  </thead>\n",
       "  <tbody>\n",
       "    <tr>\n",
       "      <th>0</th>\n",
       "      <td>6523</td>\n",
       "      <td>00A</td>\n",
       "      <td>heliport</td>\n",
       "      <td>Total RF Heliport</td>\n",
       "      <td>40.070985</td>\n",
       "      <td>-74.933689</td>\n",
       "      <td>11.0</td>\n",
       "      <td>NaN</td>\n",
       "      <td>US</td>\n",
       "      <td>US-PA</td>\n",
       "      <td>Bensalem</td>\n",
       "      <td>no</td>\n",
       "      <td>K00A</td>\n",
       "      <td>NaN</td>\n",
       "      <td>00A</td>\n",
       "      <td>NaN</td>\n",
       "      <td>NaN</td>\n",
       "      <td>NaN</td>\n",
       "    </tr>\n",
       "    <tr>\n",
       "      <th>1</th>\n",
       "      <td>323361</td>\n",
       "      <td>00AA</td>\n",
       "      <td>small_airport</td>\n",
       "      <td>Aero B Ranch Airport</td>\n",
       "      <td>38.704022</td>\n",
       "      <td>-101.473911</td>\n",
       "      <td>3435.0</td>\n",
       "      <td>NaN</td>\n",
       "      <td>US</td>\n",
       "      <td>US-KS</td>\n",
       "      <td>Leoti</td>\n",
       "      <td>no</td>\n",
       "      <td>00AA</td>\n",
       "      <td>NaN</td>\n",
       "      <td>00AA</td>\n",
       "      <td>NaN</td>\n",
       "      <td>NaN</td>\n",
       "      <td>NaN</td>\n",
       "    </tr>\n",
       "    <tr>\n",
       "      <th>2</th>\n",
       "      <td>6524</td>\n",
       "      <td>00AK</td>\n",
       "      <td>small_airport</td>\n",
       "      <td>Lowell Field</td>\n",
       "      <td>59.947733</td>\n",
       "      <td>-151.692524</td>\n",
       "      <td>450.0</td>\n",
       "      <td>NaN</td>\n",
       "      <td>US</td>\n",
       "      <td>US-AK</td>\n",
       "      <td>Anchor Point</td>\n",
       "      <td>no</td>\n",
       "      <td>00AK</td>\n",
       "      <td>NaN</td>\n",
       "      <td>00AK</td>\n",
       "      <td>NaN</td>\n",
       "      <td>NaN</td>\n",
       "      <td>NaN</td>\n",
       "    </tr>\n",
       "    <tr>\n",
       "      <th>3</th>\n",
       "      <td>6525</td>\n",
       "      <td>00AL</td>\n",
       "      <td>small_airport</td>\n",
       "      <td>Epps Airpark</td>\n",
       "      <td>34.864799</td>\n",
       "      <td>-86.770302</td>\n",
       "      <td>820.0</td>\n",
       "      <td>NaN</td>\n",
       "      <td>US</td>\n",
       "      <td>US-AL</td>\n",
       "      <td>Harvest</td>\n",
       "      <td>no</td>\n",
       "      <td>00AL</td>\n",
       "      <td>NaN</td>\n",
       "      <td>00AL</td>\n",
       "      <td>NaN</td>\n",
       "      <td>NaN</td>\n",
       "      <td>NaN</td>\n",
       "    </tr>\n",
       "    <tr>\n",
       "      <th>4</th>\n",
       "      <td>506791</td>\n",
       "      <td>00AN</td>\n",
       "      <td>small_airport</td>\n",
       "      <td>Katmai Lodge Airport</td>\n",
       "      <td>59.093287</td>\n",
       "      <td>-156.456699</td>\n",
       "      <td>80.0</td>\n",
       "      <td>NaN</td>\n",
       "      <td>US</td>\n",
       "      <td>US-AK</td>\n",
       "      <td>King Salmon</td>\n",
       "      <td>no</td>\n",
       "      <td>00AN</td>\n",
       "      <td>NaN</td>\n",
       "      <td>00AN</td>\n",
       "      <td>NaN</td>\n",
       "      <td>NaN</td>\n",
       "      <td>NaN</td>\n",
       "    </tr>\n",
       "  </tbody>\n",
       "</table>\n",
       "</div>"
      ],
      "text/plain": [
       "       id ident           type                  name  latitude_deg  \\\n",
       "0    6523   00A       heliport     Total RF Heliport     40.070985   \n",
       "1  323361  00AA  small_airport  Aero B Ranch Airport     38.704022   \n",
       "2    6524  00AK  small_airport          Lowell Field     59.947733   \n",
       "3    6525  00AL  small_airport          Epps Airpark     34.864799   \n",
       "4  506791  00AN  small_airport  Katmai Lodge Airport     59.093287   \n",
       "\n",
       "   longitude_deg  elevation_ft continent iso_country iso_region  municipality  \\\n",
       "0     -74.933689          11.0       NaN          US      US-PA      Bensalem   \n",
       "1    -101.473911        3435.0       NaN          US      US-KS         Leoti   \n",
       "2    -151.692524         450.0       NaN          US      US-AK  Anchor Point   \n",
       "3     -86.770302         820.0       NaN          US      US-AL       Harvest   \n",
       "4    -156.456699          80.0       NaN          US      US-AK   King Salmon   \n",
       "\n",
       "  scheduled_service gps_code iata_code local_code  Unnamed: 15  Unnamed: 16  \\\n",
       "0                no     K00A       NaN        00A          NaN          NaN   \n",
       "1                no     00AA       NaN       00AA          NaN          NaN   \n",
       "2                no     00AK       NaN       00AK          NaN          NaN   \n",
       "3                no     00AL       NaN       00AL          NaN          NaN   \n",
       "4                no     00AN       NaN       00AN          NaN          NaN   \n",
       "\n",
       "   Unnamed: 17  \n",
       "0          NaN  \n",
       "1          NaN  \n",
       "2          NaN  \n",
       "3          NaN  \n",
       "4          NaN  "
      ]
     },
     "execution_count": 48,
     "metadata": {},
     "output_type": "execute_result"
    }
   ],
   "source": [
    "airports.head()"
   ]
  },
  {
   "cell_type": "code",
   "execution_count": 77,
   "id": "05cbd41b",
   "metadata": {},
   "outputs": [
    {
     "data": {
      "text/plain": [
       "8888"
      ]
     },
     "execution_count": 77,
     "metadata": {},
     "output_type": "execute_result"
    }
   ],
   "source": [
    "airports['iata_code'].dropna().count()"
   ]
  },
  {
   "cell_type": "code",
   "execution_count": 62,
   "id": "b6eab9b7",
   "metadata": {},
   "outputs": [
    {
     "data": {
      "text/plain": [
       "8888"
      ]
     },
     "execution_count": 62,
     "metadata": {},
     "output_type": "execute_result"
    }
   ],
   "source": [
    "(airports.shape[0])-(airports.isna().sum()[13])"
   ]
  },
  {
   "cell_type": "markdown",
   "id": "c7232f3e",
   "metadata": {},
   "source": [
    "What is the mean latitude and longitude for all the airports/heliports?\n"
   ]
  },
  {
   "cell_type": "code",
   "execution_count": 80,
   "id": "c8bbb5c9",
   "metadata": {},
   "outputs": [
    {
     "name": "stdout",
     "output_type": "stream",
     "text": [
      "mean latitude: 25.695817461196242\n",
      "mean longitude:  -28.900133483488034\n"
     ]
    }
   ],
   "source": [
    "print('mean latitude:',airports['latitude_deg'].mean())\n",
    "print('mean longitude: ',airports['longitude_deg'].mean())\n"
   ]
  },
  {
   "cell_type": "markdown",
   "id": "f342d26f",
   "metadata": {},
   "source": [
    "Which municipality has the highest number of airports/heliports?\n"
   ]
  },
  {
   "cell_type": "code",
   "execution_count": 84,
   "id": "4ba219fb",
   "metadata": {},
   "outputs": [
    {
     "data": {
      "text/plain": [
       "Osaka                  419\n",
       "Seoul                  416\n",
       "São Paulo              278\n",
       "Los Angeles            239\n",
       "Houston                149\n",
       "                      ... \n",
       "Pweto                    1\n",
       "Lubumbashi               1\n",
       "Lugushwa                 1\n",
       "Kamituga                 1\n",
       "(Old) Scandium City      1\n",
       "Name: municipality, Length: 34141, dtype: int64"
      ]
     },
     "execution_count": 84,
     "metadata": {},
     "output_type": "execute_result"
    }
   ],
   "source": [
    "airports['municipality'].value_counts()"
   ]
  },
  {
   "cell_type": "markdown",
   "id": "138153f2",
   "metadata": {},
   "source": [
    "How many unique municipalities are there in the dataset?\n"
   ]
  },
  {
   "cell_type": "code",
   "execution_count": 89,
   "id": "1dc1dcef",
   "metadata": {},
   "outputs": [
    {
     "data": {
      "text/plain": [
       "34142"
      ]
     },
     "execution_count": 89,
     "metadata": {},
     "output_type": "execute_result"
    }
   ],
   "source": [
    "len(airports['municipality'].unique())"
   ]
  },
  {
   "cell_type": "markdown",
   "id": "e27e5af2",
   "metadata": {},
   "source": [
    "Can you find the airport/heliport with the lowest elevation in the dataset?\n"
   ]
  },
  {
   "cell_type": "code",
   "execution_count": 8,
   "id": "21b50a7c",
   "metadata": {},
   "outputs": [
    {
     "data": {
      "text/html": [
       "<div>\n",
       "<style scoped>\n",
       "    .dataframe tbody tr th:only-of-type {\n",
       "        vertical-align: middle;\n",
       "    }\n",
       "\n",
       "    .dataframe tbody tr th {\n",
       "        vertical-align: top;\n",
       "    }\n",
       "\n",
       "    .dataframe thead th {\n",
       "        text-align: right;\n",
       "    }\n",
       "</style>\n",
       "<table border=\"1\" class=\"dataframe\">\n",
       "  <thead>\n",
       "    <tr style=\"text-align: right;\">\n",
       "      <th></th>\n",
       "      <th>id</th>\n",
       "      <th>ident</th>\n",
       "      <th>type</th>\n",
       "      <th>name</th>\n",
       "      <th>latitude_deg</th>\n",
       "      <th>longitude_deg</th>\n",
       "      <th>elevation_ft</th>\n",
       "      <th>continent</th>\n",
       "      <th>iso_country</th>\n",
       "      <th>iso_region</th>\n",
       "      <th>municipality</th>\n",
       "      <th>scheduled_service</th>\n",
       "      <th>gps_code</th>\n",
       "      <th>iata_code</th>\n",
       "      <th>local_code</th>\n",
       "      <th>Unnamed: 15</th>\n",
       "      <th>Unnamed: 16</th>\n",
       "      <th>Unnamed: 17</th>\n",
       "    </tr>\n",
       "  </thead>\n",
       "  <tbody>\n",
       "    <tr>\n",
       "      <th>47204</th>\n",
       "      <td>350894</td>\n",
       "      <td>NP-0007</td>\n",
       "      <td>heliport</td>\n",
       "      <td>Mount Everest Base Camp Heliport</td>\n",
       "      <td>28.00369</td>\n",
       "      <td>86.85324</td>\n",
       "      <td>17372.0</td>\n",
       "      <td>AS</td>\n",
       "      <td>NP</td>\n",
       "      <td>NP-P1</td>\n",
       "      <td>Khumjung</td>\n",
       "      <td>no</td>\n",
       "      <td>NaN</td>\n",
       "      <td>NaN</td>\n",
       "      <td>NaN</td>\n",
       "      <td>NaN</td>\n",
       "      <td>NaN</td>\n",
       "      <td>NaN</td>\n",
       "    </tr>\n",
       "  </tbody>\n",
       "</table>\n",
       "</div>"
      ],
      "text/plain": [
       "           id    ident      type                              name  \\\n",
       "47204  350894  NP-0007  heliport  Mount Everest Base Camp Heliport   \n",
       "\n",
       "       latitude_deg  longitude_deg  elevation_ft continent iso_country  \\\n",
       "47204      28.00369       86.85324       17372.0        AS          NP   \n",
       "\n",
       "      iso_region municipality scheduled_service gps_code iata_code local_code  \\\n",
       "47204      NP-P1     Khumjung                no      NaN       NaN        NaN   \n",
       "\n",
       "       Unnamed: 15  Unnamed: 16  Unnamed: 17  \n",
       "47204          NaN          NaN          NaN  "
      ]
     },
     "execution_count": 8,
     "metadata": {},
     "output_type": "execute_result"
    }
   ],
   "source": [
    "airports[airports['elevation_ft']==airports['elevation_ft'].max()]\n"
   ]
  },
  {
   "cell_type": "markdown",
   "id": "f770df42",
   "metadata": {},
   "source": [
    "How many airports/heliports are located in Pennsylvania (ISO region code 'US-PA')?\n"
   ]
  },
  {
   "cell_type": "code",
   "execution_count": 33,
   "id": "247bfb45",
   "metadata": {},
   "outputs": [
    {
     "data": {
      "text/plain": [
       "1037"
      ]
     },
     "execution_count": 33,
     "metadata": {},
     "output_type": "execute_result"
    }
   ],
   "source": [
    "airports[airports['iso_region']=='US-PA']['type'].count()"
   ]
  },
  {
   "cell_type": "markdown",
   "id": "abb8029c",
   "metadata": {},
   "source": [
    "What is the mean elevation of small airports in the US?\n"
   ]
  },
  {
   "cell_type": "code",
   "execution_count": 38,
   "id": "064c5f0d",
   "metadata": {},
   "outputs": [
    {
     "data": {
      "text/plain": [
       "1388.0892622735626"
      ]
     },
     "execution_count": 38,
     "metadata": {},
     "output_type": "execute_result"
    }
   ],
   "source": [
    "airports[airports['type']=='small_airport']['elevation_ft'].mean()"
   ]
  },
  {
   "cell_type": "markdown",
   "id": "d91fd23f",
   "metadata": {},
   "source": [
    "How many airports/heliports are categorized as 'heliport' in the 'type' column?\n"
   ]
  },
  {
   "cell_type": "code",
   "execution_count": 40,
   "id": "68eece5f",
   "metadata": {},
   "outputs": [
    {
     "data": {
      "text/plain": [
       "19399"
      ]
     },
     "execution_count": 40,
     "metadata": {},
     "output_type": "execute_result"
    }
   ],
   "source": [
    "len(airports[airports['type']=='heliport'])"
   ]
  },
  {
   "cell_type": "markdown",
   "id": "faad0170",
   "metadata": {},
   "source": [
    "Which airport/heliport has the GPS code 'K00A'?\n"
   ]
  },
  {
   "cell_type": "code",
   "execution_count": 44,
   "id": "3f3d5da8",
   "metadata": {},
   "outputs": [
    {
     "data": {
      "text/plain": [
       "'Total RF Heliport'"
      ]
     },
     "execution_count": 44,
     "metadata": {},
     "output_type": "execute_result"
    }
   ],
   "source": [
    "airports[airports['gps_code']=='K00A']['name'][0]"
   ]
  },
  {
   "cell_type": "markdown",
   "id": "b695cd31",
   "metadata": {},
   "source": [
    "How many airports/heliports have an ISO region code starting with 'US-A'?\n"
   ]
  },
  {
   "cell_type": "code",
   "execution_count": 80,
   "id": "1b4e8cd8",
   "metadata": {},
   "outputs": [
    {
     "data": {
      "text/plain": [
       "3096"
      ]
     },
     "execution_count": 80,
     "metadata": {},
     "output_type": "execute_result"
    }
   ],
   "source": [
    "len(airports[airports['iso_region'].apply(lambda x:x.split('-')[0:1]==['US'] and x.split('-')[1][0]=='A')])"
   ]
  },
  {
   "cell_type": "markdown",
   "id": "86f0c981",
   "metadata": {},
   "source": [
    "What are the top 5 airports/heliports with the highest elevation in the US?\n"
   ]
  },
  {
   "cell_type": "code",
   "execution_count": 92,
   "id": "4e4667be",
   "metadata": {},
   "outputs": [
    {
     "data": {
      "text/plain": [
       "12963.0"
      ]
     },
     "execution_count": 92,
     "metadata": {},
     "output_type": "execute_result"
    }
   ],
   "source": [
    "airports[airports['iso_country']=='US']['elevation_ft'].max()"
   ]
  },
  {
   "cell_type": "markdown",
   "id": "849bfe68",
   "metadata": {},
   "source": [
    "How many airports/heliports are categorized as 'small_airport' and have scheduled airline service?\n"
   ]
  },
  {
   "cell_type": "code",
   "execution_count": 94,
   "id": "d2e41438",
   "metadata": {},
   "outputs": [
    {
     "data": {
      "text/plain": [
       "855"
      ]
     },
     "execution_count": 94,
     "metadata": {},
     "output_type": "execute_result"
    }
   ],
   "source": [
    "len(airports[(airports['type']=='small_airport') & (airports['scheduled_service']=='yes')])"
   ]
  },
  {
   "cell_type": "markdown",
   "id": "e88d5915",
   "metadata": {},
   "source": [
    "What is the average latitude for airports/heliports in the dataset?\n"
   ]
  },
  {
   "cell_type": "code",
   "execution_count": 95,
   "id": "eab0f268",
   "metadata": {},
   "outputs": [
    {
     "data": {
      "text/plain": [
       "25.695817461196242"
      ]
     },
     "execution_count": 95,
     "metadata": {},
     "output_type": "execute_result"
    }
   ],
   "source": [
    "airports['latitude_deg'].mean()"
   ]
  },
  {
   "cell_type": "markdown",
   "id": "83b3fd75",
   "metadata": {},
   "source": [
    "How many airports/heliports are there in the 'US-AL' region with scheduled airline service?\n"
   ]
  },
  {
   "cell_type": "code",
   "execution_count": 97,
   "id": "48a1aa6b",
   "metadata": {},
   "outputs": [
    {
     "data": {
      "text/plain": [
       "6"
      ]
     },
     "execution_count": 97,
     "metadata": {},
     "output_type": "execute_result"
    }
   ],
   "source": [
    "len(airports[(airports['iso_region']=='US-AL')&(airports['scheduled_service']=='yes')])"
   ]
  },
  {
   "cell_type": "markdown",
   "id": "13369ce4",
   "metadata": {},
   "source": [
    "What is the elevation of the 'Aero B Ranch Airport'?\n"
   ]
  },
  {
   "cell_type": "code",
   "execution_count": 100,
   "id": "09f6bab1",
   "metadata": {},
   "outputs": [
    {
     "data": {
      "text/plain": [
       "1    3435.0\n",
       "Name: elevation_ft, dtype: float64"
      ]
     },
     "execution_count": 100,
     "metadata": {},
     "output_type": "execute_result"
    }
   ],
   "source": [
    "airports[airports['name']=='Aero B Ranch Airport']['elevation_ft']"
   ]
  },
  {
   "cell_type": "markdown",
   "id": "ea454544",
   "metadata": {},
   "source": [
    "How many airports/heliports have a latitude greater than 50 degrees?\n"
   ]
  },
  {
   "cell_type": "code",
   "execution_count": 105,
   "id": "226e91a9",
   "metadata": {},
   "outputs": [
    {
     "data": {
      "text/plain": [
       "8170"
      ]
     },
     "execution_count": 105,
     "metadata": {},
     "output_type": "execute_result"
    }
   ],
   "source": [
    "len(airports[airports['latitude_deg']>50])"
   ]
  },
  {
   "cell_type": "markdown",
   "id": "1a7c7554",
   "metadata": {},
   "source": [
    "What is the elevation of the 'Lowell Field' airport?\n"
   ]
  },
  {
   "cell_type": "code",
   "execution_count": 115,
   "id": "02a7a3b5",
   "metadata": {},
   "outputs": [
    {
     "data": {
      "text/plain": [
       "2        450.0\n",
       "10514    475.0\n",
       "Name: elevation_ft, dtype: float64"
      ]
     },
     "execution_count": 115,
     "metadata": {},
     "output_type": "execute_result"
    }
   ],
   "source": [
    "airports[airports['name']=='Lowell Field']['elevation_ft']"
   ]
  },
  {
   "cell_type": "code",
   "execution_count": 155,
   "id": "6e88f892",
   "metadata": {},
   "outputs": [
    {
     "data": {
      "text/plain": [
       "0        -74.933689\n",
       "1       -101.473911\n",
       "2       -151.692524\n",
       "3        -86.770302\n",
       "4       -156.456699\n",
       "            ...    \n",
       "76359      1.482500\n",
       "76360     47.296389\n",
       "76361    -97.356312\n",
       "76362   -138.939310\n",
       "76363    130.270556\n",
       "Name: longitude_deg, Length: 76155, dtype: float64"
      ]
     },
     "execution_count": 155,
     "metadata": {},
     "output_type": "execute_result"
    }
   ],
   "source": [
    "airports[airports['longitude_deg']>-160]['longitude_deg']"
   ]
  },
  {
   "cell_type": "markdown",
   "id": "1ff4e73c",
   "metadata": {},
   "source": [
    "What is the total number of missing values in the 'Unnamed: 15', 'Unnamed: 16', and 'Unnamed: 17' columns?"
   ]
  },
  {
   "cell_type": "code",
   "execution_count": 154,
   "id": "ee3d0ca8",
   "metadata": {},
   "outputs": [
    {
     "data": {
      "text/plain": [
       "Unnamed: 15    76364\n",
       "Unnamed: 16    76364\n",
       "Unnamed: 17    76364\n",
       "dtype: int64"
      ]
     },
     "execution_count": 154,
     "metadata": {},
     "output_type": "execute_result"
    }
   ],
   "source": [
    "airports[['Unnamed: 15','Unnamed: 16','Unnamed: 17']].isna().sum()"
   ]
  },
  {
   "cell_type": "markdown",
   "id": "d2d5347c",
   "metadata": {},
   "source": [
    "### Email:shamilmskeeri@gmail.com"
   ]
  },
  {
   "cell_type": "code",
   "execution_count": null,
   "id": "e4959008",
   "metadata": {},
   "outputs": [],
   "source": []
  }
 ],
 "metadata": {
  "kernelspec": {
   "display_name": "Python 3 (ipykernel)",
   "language": "python",
   "name": "python3"
  },
  "language_info": {
   "codemirror_mode": {
    "name": "ipython",
    "version": 3
   },
   "file_extension": ".py",
   "mimetype": "text/x-python",
   "name": "python",
   "nbconvert_exporter": "python",
   "pygments_lexer": "ipython3",
   "version": "3.10.9"
  }
 },
 "nbformat": 4,
 "nbformat_minor": 5
}
